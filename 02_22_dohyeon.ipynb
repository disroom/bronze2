{
 "cells": [
  {
   "cell_type": "markdown",
   "metadata": {},
   "source": [
    "## sudocode\n",
    "\n",
    "이번문제는 간단했지만 생각보다 쉽진않았던 문제다.\n",
    "입력을 어찌 받을지 생각을 못하고 int로 받으면 고생하는 코드였다.\n",
    "print 매커니즘도 이해하면 코드가 더 깔끔해지는 문제다.\n",
    "문제는 숫자 카드 놀이라고 해서\n",
    "\n",
    "입력은 여러 테스트 케이스로 이루어져 있다. 각 테스트 케이스는 숫자 카드놀이의 시작값 S로 이루어져 있다. (1 ≤ S ≤ 100000) S는 0으로 시작하지 않으며, 입력의 마지막 줄에는 0이 하나 주어진다.\n",
    "\n",
    "출력 0이 아닌 입력에 대해서, 숫자 카드놀이가 끝나기 전 까지 나온 수를 공백으로 구분하여 출력한다. 첫 값은 입력으로 주어진 값이다.\n",
    "\n",
    "예제 입력 1 95 396 28 4 40 0\n",
    "\n",
    "예제 출력 1 95 45 20 0 396 162 12 2 28 16 6 4 40 0\n",
    "\n",
    "이런식의 자릿수 곱하기를 못할때까지 반복하는 문제였다.\n",
    "\n",
    "## 풀이\n",
    "\n",
    "str로 받음 => 이는 str 데이터가 len값으로 하여 받기 편하기 때문 한자리면 곱셈이 안되는 기믹을 유도.\n",
    "\n",
    "우선 전체적인 틀 : while로 무한 반복 하게 하고 0이 입력될시 정지하도록 설정\n",
    "\n",
    "각 자리 곱셈 저장될 값을 정함. 나는 request 라는 변수로 설정\n",
    "\n",
    "보통 print() 하면 자동으로 \\n 처리 되어 줄칸이 나눠져 문제가 생김 ==> end = ' ' 처리로 한줄로 표현\n",
    "\n",
    "그 다음엔 간단하다. request를 만들고 리퀘스트를 갱신하고 계속 프린트를 해주면 그만.\n"
   ]
  },
  {
   "cell_type": "code",
   "execution_count": null,
   "metadata": {},
   "outputs": [],
   "source": [
    "number = str(input())\n",
    "while (number != '0'):\n",
    "    while len(number) > 1:\n",
    "        resquest = 1\n",
    "        print(number, end=' ')\n",
    "        for c in number:\n",
    "            resquest *= int(c)\n",
    "        number = str(resquest)\n",
    "    print(number)\n",
    "    number = str(input())"
   ]
  }
 ],
 "metadata": {
  "language_info": {
   "name": "python"
  }
 },
 "nbformat": 4,
 "nbformat_minor": 2
}
