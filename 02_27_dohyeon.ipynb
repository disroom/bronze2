{
 "cells": [
  {
   "cell_type": "markdown",
   "metadata": {},
   "source": [
    "## 도비의 영어공부\n",
    "\n",
    "input\n",
    "g Programming Contest\n",
    "n New Zealand\n",
    "x This is quite a simple problem.\n",
    "\n",
    "#\n",
    "\n",
    "output\n",
    "g 2\n",
    "n 2\n",
    "x 0\n",
    "\n",
    "##\n",
    "\n",
    "1. 끝나는조건이 # 이니까 #을 받아 들이면 종료 시켜야함\n",
    "2. 문자상 ' '즉 공백으로 구분되는데 이를 target과 우리가 목적으로 할 word를 나눠야함\n",
    "   ==> 이거는 굳이 word를 묶을 이유가 없다\n",
    "3. count를 시킬 방법을 찾아야함, 다행스럽게 count라는 메서드가 내장되어 있음.\n"
   ]
  },
  {
   "cell_type": "code",
   "execution_count": null,
   "metadata": {},
   "outputs": [],
   "source": [
    "# 이번 문제는 도비의 영어 공부\n",
    "keyword = list(map(str,input().lower().split()))\n",
    "while (keyword[0] != '#'):\n",
    "    \n",
    "    target = keyword[0]\n",
    "    ans = -1 #맨 처음 target이 무조건 포함되게 한 알고리즘이기 때문\n",
    "    for word in keyword:\n",
    "        \n",
    "        ans += word.count(target)\n",
    "        \n",
    "    print(target, ans)\n",
    "    keyword = list(map(str,input().lower().split()))\n"
   ]
  }
 ],
 "metadata": {
  "language_info": {
   "name": "python"
  }
 },
 "nbformat": 4,
 "nbformat_minor": 2
}
