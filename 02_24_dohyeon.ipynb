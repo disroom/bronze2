{
 "cells": [
  {
   "cell_type": "markdown",
   "metadata": {},
   "source": [
    "# 애너그램 만들기\n",
    "\n",
    "시간 제한 메모리 제한 제출 정답 맞힌 사람 정답 비율\n",
    "2 초 128 MB 14205 8301 6976 59.119%\n",
    "문제\n",
    "두 영어 단어가 철자의 순서를 뒤바꾸어 같아질 수 있을 때, 그러한 두 단어를 서로 애너그램 관계에 있다고 한다. 예를 들면 occurs 라는 영어 단어와 succor 는 서로 애너그램 관계에 있는데, occurs의 각 문자들의 순서를 잘 바꾸면 succor이 되기 때문이다.\n",
    "\n",
    "한 편, dared와 bread는 서로 애너그램 관계에 있지 않다. 하지만 dared에서 맨 앞의 d를 제거하고, bread에서 제일 앞의 b를 제거하면, ared와 read라는 서로 애너그램 관계에 있는 단어가 남게 된다.\n",
    "\n",
    "두 개의 영어 단어가 주어졌을 때, 두 단어가 서로 애너그램 관계에 있도록 만들기 위해서 제거해야 하는 최소 개수의 문자 수를 구하는 프로그램을 작성하시오. 문자를 제거할 때에는 아무 위치에 있는 문자든지 제거할 수 있다.\n",
    "\n",
    "입력\n",
    "첫째 줄과 둘째 줄에 영어 단어가 소문자로 주어진다. 각각의 길이는 1,000자를 넘지 않으며, 적어도 한 글자로 이루어진 단어가 주어진다.\n",
    "\n",
    "## 이 문제의 핵심은 중복된 문자를 처리할떄 어찌 하면 되는가에 대한 문제였다\n",
    "\n",
    "## 나는 remain이라는 새로운 backup list를 하나생성하여 이를 똑같이 first에도 적용하여 처리하였다.\n"
   ]
  },
  {
   "cell_type": "code",
   "execution_count": null,
   "metadata": {},
   "outputs": [],
   "source": [
    "# %%\n",
    "first = list(input())\n",
    "second = list(input())\n",
    "remain = list()\n",
    "for item in first:\n",
    "    if item in second:\n",
    "        second.remove(item)\n",
    "        remain += item\n",
    "for re in remain:\n",
    "    first.remove(re)\n",
    "print(len(first)+len(second))"
   ]
  }
 ],
 "metadata": {
  "language_info": {
   "name": "python"
  }
 },
 "nbformat": 4,
 "nbformat_minor": 2
}
