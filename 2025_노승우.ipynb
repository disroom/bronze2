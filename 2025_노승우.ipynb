{
 "cells": [
  {
   "cell_type": "code",
   "execution_count": 4,
   "metadata": {},
   "outputs": [
    {
     "name": "stdout",
     "output_type": "stream",
     "text": [
      "두 단어가 애너그램 관계를 위해 제거해야 하는 최소 문자 수: 8\n"
     ]
    }
   ],
   "source": [
    "def min_removal_for_anagram(word1, word2):\n",
    "    # 각 단어에서 각 문자의 개수를 세는 함수\n",
    "    def count_chars(word):\n",
    "        char_count = {}\n",
    "        for char in word:\n",
    "            char_count[char] = char_count.get(char, 0) + 1\n",
    "        return char_count\n",
    "    \n",
    "    # 각 단어의 문자 개수를 구함\n",
    "    count_word1 = count_chars(word1)\n",
    "    count_word2 = count_chars(word2)\n",
    "    \n",
    "    # 두 단어 간의 차이를 계산하여 최소 제거 개수를 구함\n",
    "    removal_count = sum(abs(count_word1.get(char, 0) - count_word2.get(char, 0)) for char in set(count_word1) | set(count_word2))\n",
    "    \n",
    "    return removal_count\n",
    "\n",
    "# 사용자로부터 두 단어 입력받기\n",
    "word1 = input(\"첫 번째 단어를 입력하세요: \")\n",
    "word2 = input(\"두 번째 단어를 입력하세요: \")\n",
    "\n",
    "# 계산 결과 출력\n",
    "result = min_removal_for_anagram(word1, word2)\n",
    "print(f\"두 단어가 애너그램 관계를 위해 제거해야 하는 최소 문자 수: {result}\")\n"
   ]
  },
  {
   "cell_type": "code",
   "execution_count": null,
   "metadata": {},
   "outputs": [],
   "source": []
  }
 ],
 "metadata": {
  "kernelspec": {
   "display_name": ".venv",
   "language": "python",
   "name": "python3"
  },
  "language_info": {
   "codemirror_mode": {
    "name": "ipython",
    "version": 3
   },
   "file_extension": ".py",
   "mimetype": "text/x-python",
   "name": "python",
   "nbconvert_exporter": "python",
   "pygments_lexer": "ipython3",
   "version": "3.11.3"
  }
 },
 "nbformat": 4,
 "nbformat_minor": 2
}
