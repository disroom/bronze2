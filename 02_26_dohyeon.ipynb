{
 "cells": [
  {
   "cell_type": "markdown",
   "metadata": {},
   "source": [
    "# 이번 문제는 직관적인 문제였다.\n",
    "\n",
    "날 달 해 를 주어지고\n",
    "윤달년과 아닌 해를 구분하여\n",
    "\n",
    "그해 1월 1일 기준으로 제공된 달과 날까지 며칠 걸리는지\n",
    "구하는 문제이다\n",
    "\n",
    "define_yoon 을 사용해 윤달 구분\n",
    "\n",
    "=> 이후 30일과 31일 구분지어서\n",
    "달을 더하고 맨 마지막에 날을 더하기만 하면 되었다.\n"
   ]
  },
  {
   "cell_type": "code",
   "execution_count": null,
   "metadata": {},
   "outputs": [],
   "source": [
    "day, month, year = map(int,input().split())\n",
    "\n",
    "def define_yoon(year):\n",
    "    year_tail = year%100\n",
    "    if year_tail%4 != 0 : return 28\n",
    "    \n",
    "    else :\n",
    "        if year_tail == 0:\n",
    "            year_head = year//100\n",
    "            if year_head%4 == 0:\n",
    "                return 29\n",
    "            else:\n",
    "                return 28\n",
    "        else:\n",
    "            return 29\n",
    "  \n",
    "    \n",
    "while((day and month and year) != 0):\n",
    "    return_day = 0\n",
    "    for number in range(month-1):\n",
    "        now_month = number +1 #달 계산\n",
    "        if now_month ==2:\n",
    "            add = define_yoon(year)\n",
    "        elif now_month in [4,6,9,11]:\n",
    "            add = 30\n",
    "        else : add = 31\n",
    "        return_day += add\n",
    "    return_day += day\n",
    "    print(return_day)\n",
    "    day, month, year = map(int,input().split())\n",
    "\n",
    "\n",
    " "
   ]
  },
  {
   "cell_type": "code",
   "execution_count": null,
   "metadata": {},
   "outputs": [],
   "source": []
  }
 ],
 "metadata": {
  "kernelspec": {
   "display_name": "Python 3",
   "language": "python",
   "name": "python3"
  },
  "language_info": {
   "name": "python",
   "version": "3.12.1"
  }
 },
 "nbformat": 4,
 "nbformat_minor": 2
}
