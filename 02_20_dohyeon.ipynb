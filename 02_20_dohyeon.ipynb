{
 "cells": [
  {
   "cell_type": "markdown",
   "metadata": {},
   "source": [
    "## sudocode\n",
    "\n",
    "#### 이번 문제는 꽤나 직관적이다\n",
    "\n",
    "첫번째 줄에는 몇번 trial할건지\n",
    "그다음 줄 부터는\n",
    "테스트줄 번호 , 10진수 수를 주어진다\n",
    "\n",
    "==> 결과값 : 테스트줄 8_10 10_to_10 16_to_10\n",
    "\n",
    "조건 1) 8진수로 해독이 불가능시 0을 출력한다. << 이 조건이 의미하는것을 잘 생각해보자>>\n",
    "==> 생각결과 0~7까지만 있는 숫자 조합에서는 10진수 8,9,10을 이해 못함\n",
    "이게 있으면 8진수 해석불가 도출\n",
    "\n",
    "조건 2) 문자열의 길이는 7보다 작거나 같고, 0으로 시작할 수 있다.\n",
    "0으로 시작할 수 있다 == str형태로 기입될수 있음 이를 int화 시키는게 중요할듯.\n",
    "\n",
    "### 코드 생각정리\\_정정\n",
    "\n",
    "모델화 시켜서 8진법 16진법에 해당하는 변환식을 함수화로 저장하고 진행\n",
    "<8진법판단 메커니즘> : 쉽게 가는 방법이 있겠지만 나는 모르기에 10진수의 각 자리수에서 판단하는 방식으로 진행\n",
    "--> 어차피 8진법 교환식이나 16진법 교환식이나 input데이터가 10진법이므로\n",
    "같은 형태로 진행 가능.\n",
    "\n",
    "1. trial 받기\n",
    "\n",
    "2. for 문안에서 하나 받고\n",
    "   8 판단 => 적용\n",
    "   10-> 그대로 도출\n",
    "   16 -> 16진법 적용 표현\n",
    "   print()\n"
   ]
  },
  {
   "cell_type": "markdown",
   "metadata": {},
   "source": [
    "# 본코드\n"
   ]
  },
  {
   "cell_type": "code",
   "execution_count": 1,
   "metadata": {},
   "outputs": [
    {
     "name": "stdout",
     "output_type": "stream",
     "text": [
      "1 668 1234 4660\n",
      "2 0 9 9\n",
      "3 1023 1777 6007\n",
      "4 0 129 297\n"
     ]
    }
   ],
   "source": [
    "def check_eight(input_data):\n",
    "    for _ in range(len(str(input_data))):\n",
    "        data = input_data % 10\n",
    "        if data in [8,9]: return False #이후 판단에 쓸것\n",
    "        input_data = input_data // 10\n",
    "    return True #True일떄 조건으로 정해 이 다음 변환식 적용할것\n",
    "\n",
    "def change_num(input_data, number):\n",
    "    ans = 0 #답변용\n",
    "    trial = 0 #이건 진수마다 배수하기위한 식 \n",
    "    while(input_data != 0):\n",
    "        digit = input_data % 10 #자리수문제\n",
    "        if trial == 0:\n",
    "            ans += digit\n",
    "        else:\n",
    "            ans += digit*(number**trial)\n",
    "        input_data = input_data //10\n",
    "        trial += 1\n",
    "    return ans    \n",
    "\n",
    "T = int(input())\n",
    "\n",
    "for tri in range(T):\n",
    "    k,number = map(int,input().split())\n",
    "    number_int = int(number)\n",
    "    if check_eight(number) : eight = change_num(number, 8)\n",
    "    else : eight = 0\n",
    "    print(k, eight, number_int, change_num(number,16))"
   ]
  },
  {
   "cell_type": "code",
   "execution_count": null,
   "metadata": {},
   "outputs": [],
   "source": []
  }
 ],
 "metadata": {
  "kernelspec": {
   "display_name": "Python 3",
   "language": "python",
   "name": "python3"
  },
  "language_info": {
   "codemirror_mode": {
    "name": "ipython",
    "version": 3
   },
   "file_extension": ".py",
   "mimetype": "text/x-python",
   "name": "python",
   "nbconvert_exporter": "python",
   "pygments_lexer": "ipython3",
   "version": "3.12.1"
  }
 },
 "nbformat": 4,
 "nbformat_minor": 2
}
