{
 "cells": [
  {
   "cell_type": "markdown",
   "metadata": {},
   "source": [
    "우리는 일상생활에서 휴가 일수를 계산하는 것 처럼 두 날짜 사이의 기간을 계산해야 하는 경우가 많다.\n",
    "\n",
    "이때, 계산을 하는 가장 간단한 방법은 적당한 날짜를 잡은 뒤 계산할 날짜가 될 때까지 하루가 지날 때마다 계속 카운트를 하는 것이다.\n",
    "\n",
    "이 문제에서는 해당하는 연도의 1월 1일을 시작하는 기준으로 잡을 것이다.\n",
    "\n",
    "예를 들어 2005년 8월 13일은 총 225일이다. 그리고 그 1년 전인 2004년 8월 13일은 총 226일인데, 2004년은 윤년이기 때문이다.\n",
    "\n",
    "윤년은 해당하는 연도가 4로 나누어 떨어지며 100으로는 나누어지는 연도는 제외하며, 그 중에서도 400으로 나누어 떨어지는 연도는 다시 포함한다. 그러므로 2000년이나 1976년은 윤년이다. 그러나, 1900년이나 1977년과 같은 경우는 윤년이 아니다.\n",
    "\n",
    "또한 여러분은 28일로 이루어진(윤년에는 29일) 2월, 30일로 이루어진 4월, 6월 , 9월, 11월을 제외한 모든 달은 31일로 이루어져 있다는 것을 알고 있다.\n",
    "\n",
    "이 문제에서, 여러분은 주어진 날짜를 카운트해야 한다.\n",
    "14 8 2004    =======> 227\n",
    "1 1 2004     =======> 1\n",
    "31 1 1976    =======> 31\n",
    "1 3 1974     =======> 60\n",
    "1 3 1976     =======> 61\n",
    "0 0 0        =======>\n",
    "\n",
    "-------------------------------------------------------------------------\n",
    "문제를 보았을때 각 일 월 년 을 기준으로 입력받음\n",
    "14(일) 8(월) 2004(년)\n",
    "연도는 1700~2200 사이\n",
    "0 0 0 입력시 종료!\n",
    "\n",
    "날짜를 카운트를하는디 입력받은 년도의 1월1일을 기준으로 하는것 그중에서도 윤년은 2월 29일 임으로\n",
    "2월을 넘어가는 월을 카운트를 한다면 자동으로 +1이됨(윤년은 29 나머지일은 30이라서)\n",
    "윤년은 연도가 4로나눠 떨어지고 \n",
    "100으로 나눠지는 연도는 제외 \n",
    "400으로 나눠떨어지는 연도는 포함\n",
    "\n",
    "윤년부터 구해보기\n"
   ]
  },
  {
   "cell_type": "code",
   "execution_count": 21,
   "metadata": {},
   "outputs": [
    {
     "name": "stdout",
     "output_type": "stream",
     "text": [
      "1976년은 윤년입니다.\n"
     ]
    }
   ],
   "source": [
    "year = int(input(\"연도를 입력하세요. :\"))\n",
    "\n",
    "if year % 4 == 0 and year % 100 != 0:\n",
    "    print(str(year)+\"년은 윤년입니다.\")\n",
    "elif year % 400 == 0:\n",
    "    print(str(year)+\"년은 윤년입니다.\")\n",
    "else:\n",
    "    print(str(year)+\"년은 윤년이 아닙니다.\")"
   ]
  },
  {
   "cell_type": "code",
   "execution_count": 25,
   "metadata": {},
   "outputs": [
    {
     "name": "stdout",
     "output_type": "stream",
     "text": [
      "227\n"
     ]
    },
    {
     "ename": "ValueError",
     "evalue": "invalid literal for int() with base 10: ''",
     "output_type": "error",
     "traceback": [
      "\u001b[1;31m---------------------------------------------------------------------------\u001b[0m",
      "\u001b[1;31mValueError\u001b[0m                                Traceback (most recent call last)",
      "Cell \u001b[1;32mIn[25], line 6\u001b[0m\n\u001b[0;32m      3\u001b[0m \u001b[38;5;28;01mwhile\u001b[39;00m \u001b[38;5;28;01mTrue\u001b[39;00m:\n\u001b[0;32m      4\u001b[0m     user_input \u001b[38;5;241m=\u001b[39m \u001b[38;5;28minput\u001b[39m()\u001b[38;5;241m.\u001b[39msplit(\u001b[38;5;124m\"\u001b[39m\u001b[38;5;124m \u001b[39m\u001b[38;5;124m\"\u001b[39m)\n\u001b[1;32m----> 6\u001b[0m     user_day\u001b[38;5;241m=\u001b[39m \u001b[38;5;28;43mint\u001b[39;49m\u001b[43m(\u001b[49m\u001b[43muser_input\u001b[49m\u001b[43m[\u001b[49m\u001b[38;5;241;43m0\u001b[39;49m\u001b[43m]\u001b[49m\u001b[43m)\u001b[49m\n\u001b[0;32m      7\u001b[0m     user_month \u001b[38;5;241m=\u001b[39m \u001b[38;5;28mint\u001b[39m(user_input[\u001b[38;5;241m1\u001b[39m])\n\u001b[0;32m      8\u001b[0m     user_year \u001b[38;5;241m=\u001b[39m \u001b[38;5;28mint\u001b[39m(user_input[\u001b[38;5;241m2\u001b[39m])\n",
      "\u001b[1;31mValueError\u001b[0m: invalid literal for int() with base 10: ''"
     ]
    }
   ],
   "source": [
    "from datetime import datetime\n",
    "\n",
    "while True:\n",
    "    user_input = input().split(\" \")\n",
    "    \n",
    "    user_day= int(user_input[0])\n",
    "    user_month = int(user_input[1])\n",
    "    user_year = int(user_input[2])\n",
    "    if user_day==0 and user_month==0 and user_year==0:\n",
    "        break\n",
    "    time1 = datetime(user_year, user_month, user_day, 0, 0, 0)\n",
    "    time2 = datetime(user_year, 1, 1, 0, 0, 0)\n",
    "    \n",
    "    print((time1-time2).days+1) \n",
    "    \n",
    "  \n"
   ]
  },
  {
   "cell_type": "code",
   "execution_count": null,
   "metadata": {},
   "outputs": [],
   "source": []
  }
 ],
 "metadata": {
  "kernelspec": {
   "display_name": ".venv",
   "language": "python",
   "name": "python3"
  },
  "language_info": {
   "codemirror_mode": {
    "name": "ipython",
    "version": 3
   },
   "file_extension": ".py",
   "mimetype": "text/x-python",
   "name": "python",
   "nbconvert_exporter": "python",
   "pygments_lexer": "ipython3",
   "version": "3.12.1"
  }
 },
 "nbformat": 4,
 "nbformat_minor": 2
}
