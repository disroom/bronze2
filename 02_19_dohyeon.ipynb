{
 "cells": [
  {
   "cell_type": "markdown",
   "metadata": {},
   "source": [
    "# sudocode 브론즈 2 분산처리\n",
    "\n",
    "# https://www.acmicpc.net/problem/1009\n",
    "\n",
    "결국 우리가 취하는 행동은 이러하다\n",
    "\n",
    "1. 입력받을 행의 갯수를 받는다 -> N번 반복\n",
    "2. a에 b제곱을 취한다.\n",
    "3. 1~10 까지 컴퓨터가 있고 11 -> 1 이므로 10진수화 시킨다.\n",
    "4. 즉 맨 뒷자리만 보면 된다. 뒷자리 0 -> 10 반환\n",
    "\n",
    "#### 다만 그냥 원래 답이 0일때는 0으로 취급해야함 이건 a만 보고 판단.\n",
    "\n",
    "#### 정정 1<a<100 이라 상관 x 이건 신경 안써도 될듯\n",
    "\n",
    "### 나머지 프린트\n",
    "\n",
    "## 시간초과가 문제\n",
    "\n",
    "해결을 해야함.\n",
    "\n",
    "> 해결법 b만큼 직접 제곱하는게 아니라\n",
    "> 반복되는 형태를 고려 판단\n",
    "\n",
    "0->0\n",
    "1->1\n",
    "\n",
    "2 4 8 6 //반복 2 4 8 6\n",
    "\n",
    "3 9 7 1 3 9 7 1 //반복\n",
    "\n",
    "4 6 4 6 //반복\n",
    "\n",
    "5 -> 5 반복\n",
    "\n",
    "6 -> 6 반복\n",
    "\n",
    "7 9 3 1 //반복 7 9 3 1\n",
    "\n",
    "8 4 2 6 //반복 8\n",
    "\n",
    "9 1 // 9 1 // 반복\n",
    "\n",
    "10->부턴 반복 -> a%10 으로 판단해도 될듯\n",
    "\n",
    "[0 1 5 6] = 그대로 반복\n",
    "[4 9] = 2개마다 반복\n",
    "[2 3 7 8] = 4개마다 반복 처리\n",
    "\n",
    "1 ≤ b < 1,000,000 이므로 b%2나 b%4를 했을때 b == 0때 처리를 안해도 되서 생략함.\n"
   ]
  },
  {
   "cell_type": "markdown",
   "metadata": {},
   "source": [
    "# 본코드\n"
   ]
  },
  {
   "cell_type": "code",
   "execution_count": 2,
   "metadata": {},
   "outputs": [
    {
     "name": "stdout",
     "output_type": "stream",
     "text": [
      "1\n",
      "6\n"
     ]
    }
   ],
   "source": [
    "trial = int(input())\n",
    "for tri in range(trial):\n",
    "    a,b = map(int,input().split())\n",
    "    a_scale = a%10\n",
    "    if a_scale == 0:\n",
    "        print(10)\n",
    "        continue\n",
    "    elif a_scale == 1 or a_scale ==5 or a_scale == 6 :\n",
    "        print(a_scale)\n",
    "        continue\n",
    "    elif a_scale == 4 or a_scale == 9:\n",
    "        b_scale = b%2 + 2 #이거 +2는 b%2 = 0 일떄 그대로 0취급시 a**0 = 1일거 대비용\n",
    "    else:\n",
    "        b_scale = b%4 + 4 \n",
    "    predict = a_scale**(b_scale)\n",
    "    print(predict%10)\n",
    "    "
   ]
  }
 ],
 "metadata": {
  "kernelspec": {
   "display_name": "Python 3",
   "language": "python",
   "name": "python3"
  },
  "language_info": {
   "codemirror_mode": {
    "name": "ipython",
    "version": 3
   },
   "file_extension": ".py",
   "mimetype": "text/x-python",
   "name": "python",
   "nbconvert_exporter": "python",
   "pygments_lexer": "ipython3",
   "version": "3.12.1"
  }
 },
 "nbformat": 4,
 "nbformat_minor": 2
}
